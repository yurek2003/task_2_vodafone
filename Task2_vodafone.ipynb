{
 "cells": [
  {
   "cell_type": "code",
   "execution_count": 1,
   "id": "e1991308",
   "metadata": {},
   "outputs": [],
   "source": [
    "# Проанализировать датасет и выявить закономерность, \n",
    "# которая привела к недогрузу записей в биллинг. \n",
    "# Визуализировать решение любым удобным способом."
   ]
  },
  {
   "cell_type": "code",
   "execution_count": 2,
   "id": "c67d15b7",
   "metadata": {},
   "outputs": [],
   "source": [
    "from datetime import datetime\n",
    "import pandas as pd\n",
    "import matplotlib.pyplot as plt\n",
    "import seaborn as sns"
   ]
  },
  {
   "cell_type": "markdown",
   "id": "47b8de80",
   "metadata": {},
   "source": [
    "---"
   ]
  },
  {
   "cell_type": "markdown",
   "id": "90cf87fd",
   "metadata": {},
   "source": [
    "###### DESCRIPTION\n",
    "event_starttime - дата/время старта события\n",
    "\n",
    "user_id - id абонента\n",
    "\n",
    "apn - access point name\n",
    "\n",
    "cost - стоимость события\n",
    "\n",
    "duration - длительность\n",
    "\n",
    "service_id - id события\n",
    "\n",
    "tarrif_plan_id - тарифный план\n",
    "\n",
    "rejected - статус успешности прогрузки в билинг записи(0-успешно, 1-неуспешно)"
   ]
  },
  {
   "cell_type": "markdown",
   "id": "6baea0e6",
   "metadata": {},
   "source": [
    "---"
   ]
  },
  {
   "cell_type": "code",
   "execution_count": 3,
   "id": "47d88e3b",
   "metadata": {},
   "outputs": [],
   "source": [
    "file_path = 'Домашнє завдання_Data Analytics.xlsx'\n",
    "\n",
    "# Чтение последнего листа из Excel-файла\n",
    "all_sheets = pd.ExcelFile(file_path).sheet_names\n",
    "last_sheet_name = all_sheets[-2]\n",
    "\n",
    "df = pd.read_excel(file_path, sheet_name=last_sheet_name)"
   ]
  },
  {
   "cell_type": "code",
   "execution_count": 4,
   "id": "34f7ef4d",
   "metadata": {},
   "outputs": [
    {
     "data": {
      "text/html": [
       "<div>\n",
       "<style scoped>\n",
       "    .dataframe tbody tr th:only-of-type {\n",
       "        vertical-align: middle;\n",
       "    }\n",
       "\n",
       "    .dataframe tbody tr th {\n",
       "        vertical-align: top;\n",
       "    }\n",
       "\n",
       "    .dataframe thead th {\n",
       "        text-align: right;\n",
       "    }\n",
       "</style>\n",
       "<table border=\"1\" class=\"dataframe\">\n",
       "  <thead>\n",
       "    <tr style=\"text-align: right;\">\n",
       "      <th></th>\n",
       "      <th>event_starttime</th>\n",
       "      <th>user_id</th>\n",
       "      <th>apn</th>\n",
       "      <th>cost</th>\n",
       "      <th>duration</th>\n",
       "      <th>service_id</th>\n",
       "      <th>tarrif_plan_id</th>\n",
       "      <th>rejected</th>\n",
       "    </tr>\n",
       "  </thead>\n",
       "  <tbody>\n",
       "    <tr>\n",
       "      <th>0</th>\n",
       "      <td>2020-01-18 12:56:40</td>\n",
       "      <td>96351.087426</td>\n",
       "      <td>internet</td>\n",
       "      <td>0.0</td>\n",
       "      <td>44628</td>\n",
       "      <td>756.70</td>\n",
       "      <td>433</td>\n",
       "      <td>1</td>\n",
       "    </tr>\n",
       "    <tr>\n",
       "      <th>1</th>\n",
       "      <td>2020-01-18 23:49:20</td>\n",
       "      <td>100241.419527</td>\n",
       "      <td>internet</td>\n",
       "      <td>0.0</td>\n",
       "      <td>61034</td>\n",
       "      <td>790.20</td>\n",
       "      <td>433</td>\n",
       "      <td>0</td>\n",
       "    </tr>\n",
       "    <tr>\n",
       "      <th>2</th>\n",
       "      <td>2020-01-18 14:36:05</td>\n",
       "      <td>86198.589201</td>\n",
       "      <td>internet</td>\n",
       "      <td>0.0</td>\n",
       "      <td>29274</td>\n",
       "      <td>793.89</td>\n",
       "      <td>164</td>\n",
       "      <td>0</td>\n",
       "    </tr>\n",
       "    <tr>\n",
       "      <th>3</th>\n",
       "      <td>2020-01-18 10:24:24</td>\n",
       "      <td>78134.257479</td>\n",
       "      <td>internet</td>\n",
       "      <td>0.0</td>\n",
       "      <td>53764</td>\n",
       "      <td>756.31</td>\n",
       "      <td>433</td>\n",
       "      <td>1</td>\n",
       "    </tr>\n",
       "    <tr>\n",
       "      <th>4</th>\n",
       "      <td>2020-01-19 02:34:09</td>\n",
       "      <td>51676.883555</td>\n",
       "      <td>internet</td>\n",
       "      <td>0.0</td>\n",
       "      <td>30</td>\n",
       "      <td>756.31</td>\n",
       "      <td>433</td>\n",
       "      <td>0</td>\n",
       "    </tr>\n",
       "    <tr>\n",
       "      <th>...</th>\n",
       "      <td>...</td>\n",
       "      <td>...</td>\n",
       "      <td>...</td>\n",
       "      <td>...</td>\n",
       "      <td>...</td>\n",
       "      <td>...</td>\n",
       "      <td>...</td>\n",
       "      <td>...</td>\n",
       "    </tr>\n",
       "    <tr>\n",
       "      <th>24173</th>\n",
       "      <td>2020-01-19 06:21:46</td>\n",
       "      <td>59017.920696</td>\n",
       "      <td>internet</td>\n",
       "      <td>0.0</td>\n",
       "      <td>30</td>\n",
       "      <td>756.31</td>\n",
       "      <td>433</td>\n",
       "      <td>0</td>\n",
       "    </tr>\n",
       "    <tr>\n",
       "      <th>24174</th>\n",
       "      <td>2020-01-19 00:19:04</td>\n",
       "      <td>103187.370898</td>\n",
       "      <td>internet</td>\n",
       "      <td>0.0</td>\n",
       "      <td>3684</td>\n",
       "      <td>790.05</td>\n",
       "      <td>433</td>\n",
       "      <td>1</td>\n",
       "    </tr>\n",
       "    <tr>\n",
       "      <th>24175</th>\n",
       "      <td>2020-01-19 16:56:28</td>\n",
       "      <td>12543.755925</td>\n",
       "      <td>internet</td>\n",
       "      <td>0.0</td>\n",
       "      <td>45</td>\n",
       "      <td>756.31</td>\n",
       "      <td>433</td>\n",
       "      <td>0</td>\n",
       "    </tr>\n",
       "    <tr>\n",
       "      <th>24176</th>\n",
       "      <td>2020-01-19 11:29:07</td>\n",
       "      <td>17694.980407</td>\n",
       "      <td>internet</td>\n",
       "      <td>0.0</td>\n",
       "      <td>25218</td>\n",
       "      <td>532.99</td>\n",
       "      <td>433</td>\n",
       "      <td>0</td>\n",
       "    </tr>\n",
       "    <tr>\n",
       "      <th>24177</th>\n",
       "      <td>2020-01-19 18:22:17</td>\n",
       "      <td>59612.520022</td>\n",
       "      <td>internet</td>\n",
       "      <td>0.0</td>\n",
       "      <td>748</td>\n",
       "      <td>756.70</td>\n",
       "      <td>433</td>\n",
       "      <td>0</td>\n",
       "    </tr>\n",
       "  </tbody>\n",
       "</table>\n",
       "<p>24178 rows × 8 columns</p>\n",
       "</div>"
      ],
      "text/plain": [
       "          event_starttime        user_id       apn  cost  duration  \\\n",
       "0     2020-01-18 12:56:40   96351.087426  internet   0.0     44628   \n",
       "1     2020-01-18 23:49:20  100241.419527  internet   0.0     61034   \n",
       "2     2020-01-18 14:36:05   86198.589201  internet   0.0     29274   \n",
       "3     2020-01-18 10:24:24   78134.257479  internet   0.0     53764   \n",
       "4     2020-01-19 02:34:09   51676.883555  internet   0.0        30   \n",
       "...                   ...            ...       ...   ...       ...   \n",
       "24173 2020-01-19 06:21:46   59017.920696  internet   0.0        30   \n",
       "24174 2020-01-19 00:19:04  103187.370898  internet   0.0      3684   \n",
       "24175 2020-01-19 16:56:28   12543.755925  internet   0.0        45   \n",
       "24176 2020-01-19 11:29:07   17694.980407  internet   0.0     25218   \n",
       "24177 2020-01-19 18:22:17   59612.520022  internet   0.0       748   \n",
       "\n",
       "       service_id  tarrif_plan_id  rejected  \n",
       "0          756.70             433         1  \n",
       "1          790.20             433         0  \n",
       "2          793.89             164         0  \n",
       "3          756.31             433         1  \n",
       "4          756.31             433         0  \n",
       "...           ...             ...       ...  \n",
       "24173      756.31             433         0  \n",
       "24174      790.05             433         1  \n",
       "24175      756.31             433         0  \n",
       "24176      532.99             433         0  \n",
       "24177      756.70             433         0  \n",
       "\n",
       "[24178 rows x 8 columns]"
      ]
     },
     "execution_count": 4,
     "metadata": {},
     "output_type": "execute_result"
    }
   ],
   "source": [
    "df"
   ]
  },
  {
   "cell_type": "code",
   "execution_count": 5,
   "id": "9c30876f",
   "metadata": {},
   "outputs": [
    {
     "name": "stdout",
     "output_type": "stream",
     "text": [
      "<class 'pandas.core.frame.DataFrame'>\n",
      "RangeIndex: 24178 entries, 0 to 24177\n",
      "Data columns (total 8 columns):\n",
      " #   Column           Non-Null Count  Dtype         \n",
      "---  ------           --------------  -----         \n",
      " 0   event_starttime  24178 non-null  datetime64[ns]\n",
      " 1   user_id          24178 non-null  float64       \n",
      " 2   apn              24178 non-null  object        \n",
      " 3   cost             24178 non-null  float64       \n",
      " 4   duration         24178 non-null  int64         \n",
      " 5   service_id       24178 non-null  float64       \n",
      " 6   tarrif_plan_id   24178 non-null  int64         \n",
      " 7   rejected         24178 non-null  int64         \n",
      "dtypes: datetime64[ns](1), float64(3), int64(3), object(1)\n",
      "memory usage: 1.5+ MB\n"
     ]
    }
   ],
   "source": [
    "df.info()"
   ]
  },
  {
   "cell_type": "code",
   "execution_count": 6,
   "id": "379a8124",
   "metadata": {},
   "outputs": [
    {
     "data": {
      "text/plain": [
       "user_id          -0.007579\n",
       "tarrif_plan_id   -0.005708\n",
       "cost             -0.003943\n",
       "service_id        0.003401\n",
       "duration          0.495768\n",
       "Name: rejected, dtype: float64"
      ]
     },
     "execution_count": 6,
     "metadata": {},
     "output_type": "execute_result"
    }
   ],
   "source": [
    "# Подивимось на кореляцію.\n",
    "df.corr(numeric_only=True)['rejected'].sort_values()[:-1]"
   ]
  },
  {
   "cell_type": "code",
   "execution_count": 7,
   "id": "e6571c02",
   "metadata": {},
   "outputs": [],
   "source": [
    "# Бачимо що є залежність тільки з колонкою duration."
   ]
  },
  {
   "cell_type": "code",
   "execution_count": 8,
   "id": "deec7e7c",
   "metadata": {},
   "outputs": [
    {
     "data": {
      "text/html": [
       "<div>\n",
       "<style scoped>\n",
       "    .dataframe tbody tr th:only-of-type {\n",
       "        vertical-align: middle;\n",
       "    }\n",
       "\n",
       "    .dataframe tbody tr th {\n",
       "        vertical-align: top;\n",
       "    }\n",
       "\n",
       "    .dataframe thead th {\n",
       "        text-align: right;\n",
       "    }\n",
       "</style>\n",
       "<table border=\"1\" class=\"dataframe\">\n",
       "  <thead>\n",
       "    <tr style=\"text-align: right;\">\n",
       "      <th></th>\n",
       "      <th>user_id</th>\n",
       "      <th>cost</th>\n",
       "      <th>duration</th>\n",
       "      <th>service_id</th>\n",
       "      <th>tarrif_plan_id</th>\n",
       "    </tr>\n",
       "    <tr>\n",
       "      <th>rejected</th>\n",
       "      <th></th>\n",
       "      <th></th>\n",
       "      <th></th>\n",
       "      <th></th>\n",
       "      <th></th>\n",
       "    </tr>\n",
       "  </thead>\n",
       "  <tbody>\n",
       "    <tr>\n",
       "      <th>0</th>\n",
       "      <td>56377.734854</td>\n",
       "      <td>0.018445</td>\n",
       "      <td>10279.938336</td>\n",
       "      <td>775.161436</td>\n",
       "      <td>320.628925</td>\n",
       "    </tr>\n",
       "    <tr>\n",
       "      <th>1</th>\n",
       "      <td>55836.167071</td>\n",
       "      <td>0.012908</td>\n",
       "      <td>40378.656557</td>\n",
       "      <td>775.460650</td>\n",
       "      <td>317.838730</td>\n",
       "    </tr>\n",
       "  </tbody>\n",
       "</table>\n",
       "</div>"
      ],
      "text/plain": [
       "               user_id      cost      duration  service_id  tarrif_plan_id\n",
       "rejected                                                                  \n",
       "0         56377.734854  0.018445  10279.938336  775.161436      320.628925\n",
       "1         55836.167071  0.012908  40378.656557  775.460650      317.838730"
      ]
     },
     "execution_count": 8,
     "metadata": {},
     "output_type": "execute_result"
    }
   ],
   "source": [
    "df.groupby('rejected').mean(numeric_only=True)"
   ]
  },
  {
   "cell_type": "markdown",
   "id": "484cdf5d",
   "metadata": {},
   "source": [
    "Бачимо також, що середнє значення відрізняєтся тільки в duration."
   ]
  },
  {
   "cell_type": "markdown",
   "id": "0a4180e3",
   "metadata": {},
   "source": [
    "Для того, щоб впевнетись можемо зобразити boxplot."
   ]
  },
  {
   "cell_type": "code",
   "execution_count": 9,
   "id": "375ab6a8",
   "metadata": {},
   "outputs": [
    {
     "data": {
      "text/html": [
       "<div>\n",
       "<style scoped>\n",
       "    .dataframe tbody tr th:only-of-type {\n",
       "        vertical-align: middle;\n",
       "    }\n",
       "\n",
       "    .dataframe tbody tr th {\n",
       "        vertical-align: top;\n",
       "    }\n",
       "\n",
       "    .dataframe thead th {\n",
       "        text-align: right;\n",
       "    }\n",
       "</style>\n",
       "<table border=\"1\" class=\"dataframe\">\n",
       "  <thead>\n",
       "    <tr style=\"text-align: right;\">\n",
       "      <th>rejected</th>\n",
       "      <th>0</th>\n",
       "      <th>1</th>\n",
       "    </tr>\n",
       "  </thead>\n",
       "  <tbody>\n",
       "    <tr>\n",
       "      <th>count</th>\n",
       "      <td>19298.000000</td>\n",
       "      <td>4880.000000</td>\n",
       "    </tr>\n",
       "    <tr>\n",
       "      <th>mean</th>\n",
       "      <td>10279.938336</td>\n",
       "      <td>40378.656557</td>\n",
       "    </tr>\n",
       "    <tr>\n",
       "      <th>std</th>\n",
       "      <td>20525.547768</td>\n",
       "      <td>23516.174704</td>\n",
       "    </tr>\n",
       "    <tr>\n",
       "      <th>min</th>\n",
       "      <td>1.000000</td>\n",
       "      <td>6.000000</td>\n",
       "    </tr>\n",
       "    <tr>\n",
       "      <th>25%</th>\n",
       "      <td>30.000000</td>\n",
       "      <td>21872.000000</td>\n",
       "    </tr>\n",
       "    <tr>\n",
       "      <th>50%</th>\n",
       "      <td>623.500000</td>\n",
       "      <td>38229.500000</td>\n",
       "    </tr>\n",
       "    <tr>\n",
       "      <th>75%</th>\n",
       "      <td>7665.000000</td>\n",
       "      <td>56056.250000</td>\n",
       "    </tr>\n",
       "    <tr>\n",
       "      <th>max</th>\n",
       "      <td>86440.000000</td>\n",
       "      <td>91227.000000</td>\n",
       "    </tr>\n",
       "  </tbody>\n",
       "</table>\n",
       "</div>"
      ],
      "text/plain": [
       "rejected             0             1\n",
       "count     19298.000000   4880.000000\n",
       "mean      10279.938336  40378.656557\n",
       "std       20525.547768  23516.174704\n",
       "min           1.000000      6.000000\n",
       "25%          30.000000  21872.000000\n",
       "50%         623.500000  38229.500000\n",
       "75%        7665.000000  56056.250000\n",
       "max       86440.000000  91227.000000"
      ]
     },
     "execution_count": 9,
     "metadata": {},
     "output_type": "execute_result"
    }
   ],
   "source": [
    "df.groupby('rejected')['duration'].describe().transpose()"
   ]
  },
  {
   "cell_type": "code",
   "execution_count": 10,
   "id": "baf70009",
   "metadata": {},
   "outputs": [
    {
     "data": {
      "text/plain": [
       "<Axes: xlabel='duration', ylabel='rejected'>"
      ]
     },
     "execution_count": 10,
     "metadata": {},
     "output_type": "execute_result"
    },
    {
     "data": {
      "image/png": "[encoded data removed]",
      "text/plain": [
       "<Figure size 640x480 with 1 Axes>"
      ]
     },
     "metadata": {},
     "output_type": "display_data"
    }
   ],
   "source": [
    "sns.boxplot(data=df, orient='h', x='duration', y='rejected')"
   ]
  },
  {
   "cell_type": "markdown",
   "id": "692760ac",
   "metadata": {},
   "source": [
    "# Висновок"
   ]
  },
  {
   "cell_type": "markdown",
   "id": "31b82101",
   "metadata": {},
   "source": [
    "На цьому графіку та в таблиці ми чітко бачимо, що для rejected = 0 \n",
    "велика кількість даних знаходятья до 8000, а чорні \"кружки\", які ми бачимо це є викиди.\n",
    "На графіку з rejected = 1 ми чітко бачимо що велика кількість даних знаходиться в діапазоні від 20000 до 6000, що є набагато довше ніж в першому випадку."
   ]
  },
  {
   "cell_type": "markdown",
   "id": "8e139df5",
   "metadata": {},
   "source": [
    ">Отже можна сказати, що більш висока тривалість використання послуги (duration) здається пов'язаною з більш високою ймовірністю, що запис буде відхилено (rejected).\n",
    "Це може бути спричинено, наприклад, проблемами під час запису довгострокових сесій або технічними аспектами, які виникають під час обробки тривалих активностей."
   ]
  },
  {
   "cell_type": "code",
   "execution_count": null,
   "id": "b04ab920",
   "metadata": {},
   "outputs": [],
   "source": []
  }
 ],
 "metadata": {
  "kernelspec": {
   "display_name": "Python 3 (ipykernel)",
   "language": "python",
   "name": "python3"
  },
  "language_info": {
   "codemirror_mode": {
    "name": "ipython",
    "version": 3
   },
   "file_extension": ".py",
   "mimetype": "text/x-python",
   "name": "python",
   "nbconvert_exporter": "python",
   "pygments_lexer": "ipython3",
   "version": "3.9.16"
  }
 },
 "nbformat": 4,
 "nbformat_minor": 5
}
